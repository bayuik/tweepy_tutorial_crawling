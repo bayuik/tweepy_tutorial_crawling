{
  "cells": [
    {
      "cell_type": "code",
      "execution_count": 1,
      "metadata": {
        "colab": {
          "base_uri": "https://localhost:8080/"
        },
        "id": "oS5HMDub-yEn",
        "outputId": "bbd9c40e-3ab7-4735-a465-fcd339e958a9"
      },
      "outputs": [
        {
          "name": "stdout",
          "output_type": "stream",
          "text": [
            "Looking in indexes: https://pypi.org/simple, https://us-python.pkg.dev/colab-wheels/public/simple/\n",
            "Requirement already satisfied: tweepy in /usr/local/lib/python3.8/dist-packages (3.10.0)\n",
            "Requirement already satisfied: requests-oauthlib>=0.7.0 in /usr/local/lib/python3.8/dist-packages (from tweepy) (1.3.1)\n",
            "Requirement already satisfied: six>=1.10.0 in /usr/local/lib/python3.8/dist-packages (from tweepy) (1.15.0)\n",
            "Requirement already satisfied: requests[socks]>=2.11.1 in /usr/local/lib/python3.8/dist-packages (from tweepy) (2.23.0)\n",
            "Requirement already satisfied: oauthlib>=3.0.0 in /usr/local/lib/python3.8/dist-packages (from requests-oauthlib>=0.7.0->tweepy) (3.2.2)\n",
            "Requirement already satisfied: certifi>=2017.4.17 in /usr/local/lib/python3.8/dist-packages (from requests[socks]>=2.11.1->tweepy) (2022.9.24)\n",
            "Requirement already satisfied: idna<3,>=2.5 in /usr/local/lib/python3.8/dist-packages (from requests[socks]>=2.11.1->tweepy) (2.10)\n",
            "Requirement already satisfied: urllib3!=1.25.0,!=1.25.1,<1.26,>=1.21.1 in /usr/local/lib/python3.8/dist-packages (from requests[socks]>=2.11.1->tweepy) (1.24.3)\n",
            "Requirement already satisfied: chardet<4,>=3.0.2 in /usr/local/lib/python3.8/dist-packages (from requests[socks]>=2.11.1->tweepy) (3.0.4)\n",
            "Requirement already satisfied: PySocks!=1.5.7,>=1.5.6 in /usr/local/lib/python3.8/dist-packages (from requests[socks]>=2.11.1->tweepy) (1.7.1)\n"
          ]
        }
      ],
      "source": [
        "!pip install tweepy\n",
        "\n",
        "import csv\n",
        "import tweepy as tweepy\n",
        "import pandas as pd\n",
        "import numpy as np"
      ]
    },
    {
      "cell_type": "code",
      "execution_count": 2,
      "metadata": {
        "id": "tlx58FKg-4k_"
      },
      "outputs": [],
      "source": [
        "consumer_key = 'YourConsumerKeyHere'\n",
        "consumer_secret = 'YourConsumerSecretHere'\n",
        "access_key= 'YourAccessKeyHere-YourAccessKeyHere'\n",
        "access_secret = 'YourAccessSecretHere'\n",
        "\n",
        "auth = tweepy.OAuthHandler(consumer_key, consumer_secret)\n",
        "auth.set_access_token(access_key, access_secret)\n",
        "api = tweepy.API(auth)"
      ]
    },
    {
      "cell_type": "code",
      "execution_count": 3,
      "metadata": {
        "id": "KfLJ9hC---5h"
      },
      "outputs": [],
      "source": [
        "name = 'KemenkesRI'\n",
        "\n",
        "keyword = 'Virus Corona'\n",
        "\n",
        "tweets = [tweet for tweet in tweepy.Cursor(\n",
        "    api.search,\n",
        "    q=keyword,\n",
        "    wait_on_rate_limit=True,\n",
        "    count=100,\n",
        "    timeout=999999,\n",
        "    lang='id').items(2000)\n",
        "]"
      ]
    },
    {
      "cell_type": "code",
      "execution_count": 4,
      "metadata": {
        "colab": {
          "base_uri": "https://localhost:8080/"
        },
        "id": "F_eTfy_z_BH5",
        "outputId": "7af05f6d-be98-4393-e9e7-3dc3e05db1f3"
      },
      "outputs": [
        {
          "name": "stdout",
          "output_type": "stream",
          "text": [
            "1258\n"
          ]
        }
      ],
      "source": [
        "print(len(tweets))"
      ]
    },
    {
      "cell_type": "code",
      "execution_count": 5,
      "metadata": {
        "id": "AdDUxQ26_C9q"
      },
      "outputs": [],
      "source": [
        "with open('dataset_@kemenkes[Virus Corona].csv', 'w') as f:\n",
        "    csv_writer = csv.DictWriter(f, fieldnames=('date','user', 'text'))\n",
        "    csv_writer.writeheader()\n",
        "    for tweet in tweets:\n",
        "        row = {'date': tweet.created_at,'user': tweet.user.screen_name, 'text': tweet.text.replace('\\n', ' ')}\n",
        "        csv_writer.writerow(row)"
      ]
    }
  ],
  "metadata": {
    "colab": {
      "provenance": []
    },
    "kernelspec": {
      "display_name": "Python 3",
      "name": "python3"
    },
    "language_info": {
      "name": "python"
    }
  },
  "nbformat": 4,
  "nbformat_minor": 0
}
